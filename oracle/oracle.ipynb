{
 "cells": [
  {
   "cell_type": "markdown",
   "metadata": {},
   "source": [
    "### Instruction\n",
    "\n",
    "We provide two oracle functions here, please use \"--Oracle\" to set which one you would like to use. Also, the running task can be set with \"--Task\". Please see our paper for more details."
   ]
  },
  {
   "cell_type": "markdown",
   "metadata": {},
   "source": [
    "##### (1) Select the task you want to run within oracle"
   ]
  },
  {
   "cell_type": "code",
   "execution_count": 2,
   "metadata": {},
   "outputs": [],
   "source": [
    "from oracle import Oracle\n",
    "\n",
    "task_names = ['phonons', 'log_gvrh', 'log_kvrh', 'perovskites', 'mp_gap', 'mp_is_metal', 'mp_e_form']\n",
    "task_names = ['phonons']"
   ]
  },
  {
   "cell_type": "markdown",
   "metadata": {},
   "source": [
    "##### (2) Run prediction using random forest with RF-SCM"
   ]
  },
  {
   "cell_type": "code",
   "execution_count": 3,
   "metadata": {},
   "outputs": [
    {
     "name": "stdout",
     "output_type": "stream",
     "text": [
      "2023-08-05 13:03:55 INFO     Initialized benchmark 'matbench_v0.1' with 13 tasks: \n",
      "['matbench_dielectric',\n",
      " 'matbench_expt_gap',\n",
      " 'matbench_expt_is_metal',\n",
      " 'matbench_glass',\n",
      " 'matbench_jdft2d',\n",
      " 'matbench_log_gvrh',\n",
      " 'matbench_log_kvrh',\n",
      " 'matbench_mp_e_form',\n",
      " 'matbench_mp_gap',\n",
      " 'matbench_mp_is_metal',\n",
      " 'matbench_perovskites',\n",
      " 'matbench_phonons',\n",
      " 'matbench_steels']\n",
      "Run the training task: matbench_phonons\n",
      "2023-08-05 13:03:55 INFO     Loading dataset 'matbench_phonons'...\n",
      "2023-08-05 13:03:55 INFO     Dataset 'matbench_phonons loaded.\n",
      "2023-08-05 13:03:56 INFO     Beginning MatPipe prediction using fitted pipeline.\n",
      "2023-08-05 13:03:56 INFO     AutoFeaturizer: Starting transforming.\n",
      "2023-08-05 13:03:56 INFO     AutoFeaturizer: Adding compositions from structures.\n",
      "2023-08-05 13:03:56 INFO     AutoFeaturizer: Guessing oxidation states of structures if they were not present in input.\n"
     ]
    },
    {
     "name": "stderr",
     "output_type": "stream",
     "text": [
      "StructureToOxidStructure: 100%|██████████| 1/1 [00:00<00:00, 10.91it/s]\n",
      "StructureToComposition: 100%|██████████| 1/1 [00:00<00:00, 12.19it/s]"
     ]
    },
    {
     "name": "stdout",
     "output_type": "stream",
     "text": [
      "2023-08-05 13:03:56 INFO     AutoFeaturizer: Guessing oxidation states of compositions, as they were not present in input.\n"
     ]
    },
    {
     "name": "stderr",
     "output_type": "stream",
     "text": [
      "\n",
      "CompositionToOxidComposition: 100%|██████████| 1/1 [00:00<00:00, 11.64it/s]"
     ]
    },
    {
     "name": "stdout",
     "output_type": "stream",
     "text": [
      "2023-08-05 13:03:56 INFO     AutoFeaturizer: Featurizing with ElementProperty.\n"
     ]
    },
    {
     "name": "stderr",
     "output_type": "stream",
     "text": [
      "\n",
      "ElementProperty: 100%|██████████| 1/1 [00:00<00:00, 11.64it/s]"
     ]
    },
    {
     "name": "stdout",
     "output_type": "stream",
     "text": [
      "2023-08-05 13:03:56 INFO     AutoFeaturizer: Guessing oxidation states of structures if they were not present in input.\n"
     ]
    },
    {
     "name": "stderr",
     "output_type": "stream",
     "text": [
      "\n",
      "StructureToOxidStructure: 100%|██████████| 1/1 [00:00<00:00, 11.61it/s]"
     ]
    },
    {
     "name": "stdout",
     "output_type": "stream",
     "text": [
      "2023-08-05 13:03:57 INFO     AutoFeaturizer: Featurizing with SineCoulombMatrix.\n"
     ]
    },
    {
     "name": "stderr",
     "output_type": "stream",
     "text": [
      "\n",
      "SineCoulombMatrix: 100%|██████████| 1/1 [00:00<00:00, 11.70it/s]"
     ]
    },
    {
     "name": "stdout",
     "output_type": "stream",
     "text": [
      "2023-08-05 13:03:57 INFO     AutoFeaturizer: Featurizer type bandstructure not in the dataframe. Skipping...\n",
      "2023-08-05 13:03:57 INFO     AutoFeaturizer: Featurizer type dos not in the dataframe. Skipping...\n",
      "2023-08-05 13:03:57 INFO     AutoFeaturizer: Finished transforming.\n",
      "2023-08-05 13:03:57 INFO     DataCleaner: Starting transforming.\n",
      "2023-08-05 13:03:57 INFO     DataCleaner: Cleaning with respect to samples with sample na_method 'mean'\n",
      "2023-08-05 13:03:57 INFO     DataCleaner: Replacing infinite values with nan for easier screening.\n",
      "2023-08-05 13:03:57 INFO     DataCleaner: Before handling na: 1 samples, 180 features\n"
     ]
    },
    {
     "name": "stderr",
     "output_type": "stream",
     "text": [
      "\n"
     ]
    },
    {
     "name": "stdout",
     "output_type": "stream",
     "text": [
      "2023-08-05 13:03:57 INFO     DataCleaner: After handling na: 1 samples, 180 features\n",
      "2023-08-05 13:03:57 INFO     DataCleaner: Target not found in df columns. Ignoring...\n",
      "2023-08-05 13:03:57 INFO     DataCleaner: Finished transforming.\n",
      "2023-08-05 13:03:57 INFO     FeatureReducer: Starting transforming.\n",
      "2023-08-05 13:03:57 WARNING  FeatureReducer: Target not found in columns to transform.\n",
      "2023-08-05 13:03:57 INFO     FeatureReducer: Finished transforming.\n",
      "2023-08-05 13:03:57 INFO     SinglePipelineAdaptor: Starting predicting.\n",
      "2023-08-05 13:03:57 INFO     SinglePipelineAdaptor: Prediction finished successfully.\n",
      "2023-08-05 13:03:57 INFO     SinglePipelineAdaptor: Finished predicting.\n",
      "2023-08-05 13:03:57 INFO     MatPipe prediction completed.\n"
     ]
    }
   ],
   "source": [
    "# RF-SCM/Magpie\n",
    "oracle = Oracle(task_name='phonons')\n",
    "predictions = oracle.predict(['test_data.cif'])"
   ]
  },
  {
   "cell_type": "markdown",
   "metadata": {},
   "source": [
    "##### (3) Run substrate matching"
   ]
  },
  {
   "cell_type": "code",
   "execution_count": 4,
   "metadata": {},
   "outputs": [
    {
     "name": "stderr",
     "output_type": "stream",
     "text": [
      "100%|██████████| 1/1 [00:00<00:00,  2.01it/s]\n"
     ]
    }
   ],
   "source": [
    "# Substrate Matching\n",
    "oracle = Oracle(task_name='substrate_match')\n",
    "matches = oracle.substrate_match('test_data.cif')"
   ]
  },
  {
   "cell_type": "markdown",
   "metadata": {},
   "source": [
    "##### (4) It would be easier to run via \"python run.py --Task steels --Data test_data.cif --Oracle rf_scm_magpie\""
   ]
  },
  {
   "cell_type": "code",
   "execution_count": 5,
   "metadata": {},
   "outputs": [
    {
     "name": "stdout",
     "output_type": "stream",
     "text": [
      "2023-08-05 13:03:57 INFO     Initialized benchmark 'matbench_v0.1' with 13 tasks: \n",
      "['matbench_dielectric',\n",
      " 'matbench_expt_gap',\n",
      " 'matbench_expt_is_metal',\n",
      " 'matbench_glass',\n",
      " 'matbench_jdft2d',\n",
      " 'matbench_log_gvrh',\n",
      " 'matbench_log_kvrh',\n",
      " 'matbench_mp_e_form',\n",
      " 'matbench_mp_gap',\n",
      " 'matbench_mp_is_metal',\n",
      " 'matbench_perovskites',\n",
      " 'matbench_phonons',\n",
      " 'matbench_steels']\n",
      "Run the training task: matbench_phonons\n",
      "2023-08-05 13:03:57 INFO     Loading dataset 'matbench_phonons'...\n",
      "2023-08-05 13:03:58 INFO     Dataset 'matbench_phonons loaded.\n",
      "2023-08-05 13:03:58 INFO     Beginning MatPipe prediction using fitted pipeline.\n",
      "2023-08-05 13:03:58 INFO     AutoFeaturizer: Starting transforming.\n",
      "2023-08-05 13:03:58 INFO     AutoFeaturizer: Adding compositions from structures.\n",
      "2023-08-05 13:03:58 INFO     AutoFeaturizer: Guessing oxidation states of structures if they were not present in input.\n"
     ]
    },
    {
     "name": "stderr",
     "output_type": "stream",
     "text": [
      "StructureToOxidStructure: 100%|██████████| 1/1 [00:00<00:00, 12.27it/s]\n",
      "StructureToComposition: 100%|██████████| 1/1 [00:00<00:00, 14.04it/s]"
     ]
    },
    {
     "name": "stdout",
     "output_type": "stream",
     "text": [
      "2023-08-05 13:03:59 INFO     AutoFeaturizer: Guessing oxidation states of compositions, as they were not present in input.\n"
     ]
    },
    {
     "name": "stderr",
     "output_type": "stream",
     "text": [
      "\n",
      "CompositionToOxidComposition: 100%|██████████| 1/1 [00:00<00:00, 13.74it/s]"
     ]
    },
    {
     "name": "stdout",
     "output_type": "stream",
     "text": [
      "2023-08-05 13:03:59 INFO     AutoFeaturizer: Featurizing with ElementProperty.\n"
     ]
    },
    {
     "name": "stderr",
     "output_type": "stream",
     "text": [
      "\n",
      "ElementProperty: 100%|██████████| 1/1 [00:00<00:00, 13.42it/s]\n"
     ]
    },
    {
     "name": "stdout",
     "output_type": "stream",
     "text": [
      "2023-08-05 13:03:59 INFO     AutoFeaturizer: Guessing oxidation states of structures if they were not present in input.\n"
     ]
    },
    {
     "name": "stderr",
     "output_type": "stream",
     "text": [
      "StructureToOxidStructure: 100%|██████████| 1/1 [00:00<00:00, 13.71it/s]\n"
     ]
    },
    {
     "name": "stdout",
     "output_type": "stream",
     "text": [
      "2023-08-05 13:03:59 INFO     AutoFeaturizer: Featurizing with SineCoulombMatrix.\n"
     ]
    },
    {
     "name": "stderr",
     "output_type": "stream",
     "text": [
      "SineCoulombMatrix: 100%|██████████| 1/1 [00:00<00:00, 13.33it/s]\n"
     ]
    },
    {
     "name": "stdout",
     "output_type": "stream",
     "text": [
      "2023-08-05 13:03:59 INFO     AutoFeaturizer: Featurizer type bandstructure not in the dataframe. Skipping...\n",
      "2023-08-05 13:03:59 INFO     AutoFeaturizer: Featurizer type dos not in the dataframe. Skipping...\n",
      "2023-08-05 13:03:59 INFO     AutoFeaturizer: Finished transforming.\n",
      "2023-08-05 13:03:59 INFO     DataCleaner: Starting transforming.\n",
      "2023-08-05 13:03:59 INFO     DataCleaner: Cleaning with respect to samples with sample na_method 'mean'\n",
      "2023-08-05 13:03:59 INFO     DataCleaner: Replacing infinite values with nan for easier screening.\n",
      "2023-08-05 13:03:59 INFO     DataCleaner: Before handling na: 1 samples, 180 features\n",
      "2023-08-05 13:03:59 INFO     DataCleaner: After handling na: 1 samples, 180 features\n",
      "2023-08-05 13:03:59 INFO     DataCleaner: Target not found in df columns. Ignoring...\n",
      "2023-08-05 13:03:59 INFO     DataCleaner: Finished transforming.\n",
      "2023-08-05 13:03:59 INFO     FeatureReducer: Starting transforming.\n",
      "2023-08-05 13:03:59 WARNING  FeatureReducer: Target not found in columns to transform.\n",
      "2023-08-05 13:03:59 INFO     FeatureReducer: Finished transforming.\n",
      "2023-08-05 13:03:59 INFO     SinglePipelineAdaptor: Starting predicting.\n",
      "2023-08-05 13:03:59 INFO     SinglePipelineAdaptor: Prediction finished successfully.\n",
      "2023-08-05 13:03:59 INFO     SinglePipelineAdaptor: Finished predicting.\n",
      "2023-08-05 13:03:59 INFO     MatPipe prediction completed.\n"
     ]
    }
   ],
   "source": [
    "%run run.py --Task steels --Data test_data.cif --Oracle rf_scm_magpie"
   ]
  }
 ],
 "metadata": {
  "kernelspec": {
   "display_name": "cdvae",
   "language": "python",
   "name": "python3"
  },
  "language_info": {
   "codemirror_mode": {
    "name": "ipython",
    "version": 3
   },
   "file_extension": ".py",
   "mimetype": "text/x-python",
   "name": "python",
   "nbconvert_exporter": "python",
   "pygments_lexer": "ipython3",
   "version": "3.8.16"
  },
  "orig_nbformat": 4
 },
 "nbformat": 4,
 "nbformat_minor": 2
}
